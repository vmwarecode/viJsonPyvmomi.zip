{
  "cells": [
    {
      "cell_type": "code",
      "execution_count": null,
      "metadata": {
        "id": "KbWWeyfX2PCg"
      },
      "outputs": [],
      "source": [
        "%pip install pyvmomi\n",
        "%pip install requests"
      ]
    },
    {
      "attachments": {},
      "cell_type": "markdown",
      "metadata": {
        "id": "n7woYIaq2e3Y"
      },
      "source": [
        "`SmartConnect` to a vCenter server.\n",
        "\n",
        "Users are required to input vCenter IP and credentials."
      ]
    },
    {
      "cell_type": "code",
      "execution_count": null,
      "metadata": {
        "id": "9uiW-H4G2nSO"
      },
      "outputs": [],
      "source": [
        "vcenter_host = 'my-vcenter.com'\n",
        "user = 'administrator@vsphere.local'\n",
        "pwd = 'Secret'\n",
        "verify_ssl = True\n",
        "from pyVim.connect import SmartConnect\n",
        "service_instance = SmartConnect(\n",
        "    host=vcenter_host,\n",
        "    pwd=pwd,\n",
        "    user=user,\n",
        "    disableSslCertValidation=verify_ssl\n",
        ")"
      ]
    },
    {
      "attachments": {},
      "cell_type": "markdown",
      "metadata": {
        "id": "55lX6DGb3G3B"
      },
      "source": [
        "Acquiring the established session's cookies:"
      ]
    },
    {
      "cell_type": "code",
      "execution_count": null,
      "metadata": {
        "id": "og4_c_or3EBZ"
      },
      "outputs": [],
      "source": [
        "from pyVim.connect import GetStub\n",
        "cookie_str = GetStub().cookie"
      ]
    },
    {
      "attachments": {},
      "cell_type": "markdown",
      "metadata": {
        "id": "C25QgQjH3f8I"
      },
      "source": [
        "Extracting the session ID from the `cookie_str`:"
      ]
    },
    {
      "cell_type": "code",
      "execution_count": null,
      "metadata": {
        "id": "BTO9iabx3mKF"
      },
      "outputs": [],
      "source": [
        "import http.cookies\n",
        "cookie = http.cookies.SimpleCookie(cookie_str)\n",
        "session_id = cookie['vmware_soap_session'].value"
      ]
    },
    {
      "attachments": {},
      "cell_type": "markdown",
      "metadata": {
        "id": "Oc-adIDN4Oxo"
      },
      "source": [
        "Acquring the `EventManager` managed object identifier:"
      ]
    },
    {
      "cell_type": "code",
      "execution_count": null,
      "metadata": {
        "id": "4axq3mrJ4akZ"
      },
      "outputs": [],
      "source": [
        "event_manager = service_instance.content.eventManager\n",
        "event_manager_moid = event_manager._moId"
      ]
    },
    {
      "attachments": {},
      "cell_type": "markdown",
      "metadata": {
        "id": "qeJ0BXrt4m-5"
      },
      "source": [
        "Specify a collector configuration with a 'filter through all' `EventFilterSpec`:"
      ]
    },
    {
      "cell_type": "code",
      "execution_count": null,
      "metadata": {
        "id": "VePTBhyi5SXY"
      },
      "outputs": [],
      "source": [
        "event_filter_spec = '''\n",
        "{\n",
        "    \"filter\":{\n",
        "        \"_typeName\": \"EventFilterSpec\"\n",
        "    }\n",
        "}'''"
      ]
    },
    {
      "attachments": {},
      "cell_type": "markdown",
      "metadata": {
        "id": "rvqqNbLX5UbJ"
      },
      "source": [
        "Create the collector:"
      ]
    },
    {
      "cell_type": "code",
      "execution_count": null,
      "metadata": {
        "id": "TtCIYBow5gaA"
      },
      "outputs": [],
      "source": [
        "import requests\n",
        "resp = requests.post(\n",
        "    url=f'https://{vcenter_host}/sdk/vim25/8.0.1.0/EventManager/{event_manager_moid}/CreateCollectorForEvents',\n",
        "    headers={'Content-type': 'application/json',\n",
        "             'vmware-api-session-id': session_id},\n",
        "    data=event_filter_spec,\n",
        "    verify=verify_ssl)"
      ]
    },
    {
      "attachments": {},
      "cell_type": "markdown",
      "metadata": {
        "id": "oK3iaADj56lQ"
      },
      "source": [
        "Acquire the new collector's managed object identifier:"
      ]
    },
    {
      "cell_type": "code",
      "execution_count": null,
      "metadata": {
        "id": "BCYnZ4JY6DWh"
      },
      "outputs": [],
      "source": [
        "import json\n",
        "event_history_collector_moref = json.loads(resp.content)\n",
        "event_history_collector_moid = event_history_collector_moref['value']"
      ]
    },
    {
      "attachments": {},
      "cell_type": "markdown",
      "metadata": {
        "id": "2LMhzf686Gu6"
      },
      "source": [
        "Get latest events:"
      ]
    },
    {
      "cell_type": "code",
      "execution_count": null,
      "metadata": {
        "id": "w-QcqDV86Jlw"
      },
      "outputs": [],
      "source": [
        "resp = requests.get(\n",
        "    url=f'https://{vcenter_host}/sdk/vim25/8.0.1.0/EventHistoryCollector/{event_history_collector_moid}/latestPage',\n",
        "    headers={'Content-type': 'application/json',\n",
        "             'vmware-api-session-id': session_id},\n",
        "    verify=verify_ssl)"
      ]
    },
    {
      "attachments": {},
      "cell_type": "markdown",
      "metadata": {
        "id": "-fpbDrYL6PkA"
      },
      "source": [
        "Deserialize and inspect the latest event:"
      ]
    },
    {
      "cell_type": "code",
      "execution_count": null,
      "metadata": {
        "id": "_EhY-UY06TaJ"
      },
      "outputs": [],
      "source": [
        "events = json.loads(resp.content)\n",
        "events[0]"
      ]
    }
  ],
  "metadata": {
    "colab": {
      "provenance": []
    },
    "kernelspec": {
      "display_name": "Python 3",
      "name": "python3"
    },
    "language_info": {
      "name": "python"
    }
  },
  "nbformat": 4,
  "nbformat_minor": 0
}