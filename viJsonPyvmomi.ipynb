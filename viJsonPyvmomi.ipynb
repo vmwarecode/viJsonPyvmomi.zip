{
  "nbformat": 4,
  "nbformat_minor": 0,
  "metadata": {
    "colab": {
      "provenance": []
    },
    "kernelspec": {
      "name": "python3",
      "display_name": "Python 3"
    },
    "language_info": {
      "name": "python"
    }
  },
  "cells": [
    {
      "cell_type": "code",
      "execution_count": null,
      "metadata": {
        "id": "KbWWeyfX2PCg"
      },
      "outputs": [],
      "source": [
        "!pip install pyvmomi"
      ]
    },
    {
      "cell_type": "markdown",
      "source": [
        "`SmartConnect` to a vCenter server.\n",
        "\n",
        "Users are required to input vCenter IP and credentials."
      ],
      "metadata": {
        "id": "n7woYIaq2e3Y"
      }
    },
    {
      "cell_type": "code",
      "source": [
        "vcenter_host = '127.0.0.1'\n",
        "from pyVim.connect import SmartConnect\n",
        "service_instance = SmartConnect(\n",
        "    host=vcenter_host,\n",
        "    pwd='pass',\n",
        "    user='admin'\n",
        ")"
      ],
      "metadata": {
        "id": "9uiW-H4G2nSO"
      },
      "execution_count": null,
      "outputs": []
    },
    {
      "cell_type": "markdown",
      "source": [
        "Acquiring the established session's cookies:"
      ],
      "metadata": {
        "id": "55lX6DGb3G3B"
      }
    },
    {
      "cell_type": "code",
      "source": [
        "from pyVim.connect import GetStub\n",
        "cookie_str = GetStub().cookie"
      ],
      "metadata": {
        "id": "og4_c_or3EBZ"
      },
      "execution_count": null,
      "outputs": []
    },
    {
      "cell_type": "markdown",
      "source": [
        "Extracting the session ID from the `cookie_str`:"
      ],
      "metadata": {
        "id": "C25QgQjH3f8I"
      }
    },
    {
      "cell_type": "code",
      "source": [
        "import http.cookies\n",
        "cookie = http.cookies.SimpleCookie(cookie_str)\n",
        "session_id = cookie['vmware_soap_session'].value"
      ],
      "metadata": {
        "id": "BTO9iabx3mKF"
      },
      "execution_count": null,
      "outputs": []
    },
    {
      "cell_type": "markdown",
      "source": [
        "Acquring the `EventManager` managed object identifier:"
      ],
      "metadata": {
        "id": "Oc-adIDN4Oxo"
      }
    },
    {
      "cell_type": "code",
      "source": [
        "event_manager = service_instance.content.eventManager\n",
        "event_manager_moid = event_manager._moId"
      ],
      "metadata": {
        "id": "4axq3mrJ4akZ"
      },
      "execution_count": null,
      "outputs": []
    },
    {
      "cell_type": "markdown",
      "source": [
        "Specify a collector configuration with a 'filter through all' `EventFilterSpec`:"
      ],
      "metadata": {
        "id": "qeJ0BXrt4m-5"
      }
    },
    {
      "cell_type": "code",
      "source": [
        "event_filter_spec = '''\n",
        "{\n",
        "    \"filter\":{\n",
        "        \"_typeName\": \"EventFilterSpec\"\n",
        "    }\n",
        "}'''"
      ],
      "metadata": {
        "id": "VePTBhyi5SXY"
      },
      "execution_count": null,
      "outputs": []
    },
    {
      "cell_type": "markdown",
      "source": [
        "Create the collector:"
      ],
      "metadata": {
        "id": "rvqqNbLX5UbJ"
      }
    },
    {
      "cell_type": "code",
      "source": [
        "import requests\n",
        "resp = requests.post(\n",
        "    url=f'https://{vcenter_host}/sdk/vim25/8.0.1.0/EventManager/{event_manager_moid}/CreateCollectorForEvents',\n",
        "    headers={'Content-type': 'application/json',\n",
        "             'vmware-api-session-id': session_id},\n",
        "    data=event_filter_spec)"
      ],
      "metadata": {
        "id": "TtCIYBow5gaA"
      },
      "execution_count": null,
      "outputs": []
    },
    {
      "cell_type": "markdown",
      "source": [
        "Acquire the new collector's managed object identifier:"
      ],
      "metadata": {
        "id": "oK3iaADj56lQ"
      }
    },
    {
      "cell_type": "code",
      "source": [
        "import json\n",
        "event_history_collector_moref = json.loads(resp.content)\n",
        "event_history_collector_moid = event_history_collector_moref['value']"
      ],
      "metadata": {
        "id": "BCYnZ4JY6DWh"
      },
      "execution_count": null,
      "outputs": []
    },
    {
      "cell_type": "markdown",
      "source": [
        "Get latest events:"
      ],
      "metadata": {
        "id": "2LMhzf686Gu6"
      }
    },
    {
      "cell_type": "code",
      "source": [
        "resp = requests.get(\n",
        "    url=f'https://{vcenter_host}/sdk/vim25/8.0.1.0/EventHistoryCollector/{event_history_collector_moid}/latestPage',\n",
        "    headers={'Content-type': 'application/json',\n",
        "             'vmware-api-session-id': session_id})"
      ],
      "metadata": {
        "id": "w-QcqDV86Jlw"
      },
      "execution_count": null,
      "outputs": []
    },
    {
      "cell_type": "markdown",
      "source": [
        "Deserialize and inspect the latest event:"
      ],
      "metadata": {
        "id": "-fpbDrYL6PkA"
      }
    },
    {
      "cell_type": "code",
      "source": [
        "events = json.loads(resp.content)\n",
        "events[0]"
      ],
      "metadata": {
        "id": "_EhY-UY06TaJ"
      },
      "execution_count": null,
      "outputs": []
    }
  ]
}